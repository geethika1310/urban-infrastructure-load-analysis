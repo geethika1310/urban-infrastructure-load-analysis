import pandas as pd
import matplotlib.pyplot as plt
import seaborn as sns


zone_usage_df = fetch_zone_usage()
water_usage_df = fetch_water_per_occupant()

zone_usage_df.head()
water_usage_df.head()

plt.figure(figsize=(8,5))
sns.barplot(data=zone_usage_df, x='zone', y='total_kWh', palette='Blues_d')
plt.title('Total Electricity Usage by Zone')
plt.ylabel('kWh')
plt.xlabel('Zone')
plt.tight_layout()
plt.show()


plt.figure(figsize=(8,5))
sns.barplot(data=water_usage_df, x='zone', y='liters_per_person', palette='Greens_d')
plt.title('Average Water Usage per Occupant by Zone')
plt.ylabel('Liters per Person')
plt.xlabel('Zone')
plt.tight_layout()
plt.show()
